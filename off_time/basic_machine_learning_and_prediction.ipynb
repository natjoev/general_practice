{
 "cells": [
  {
   "cell_type": "markdown",
   "id": "243e307b",
   "metadata": {},
   "source": [
    "# **Data Science Practice Project 1: Introduction**\n",
    "#### credits to Siraj Raval - YT"
   ]
  },
  {
   "cell_type": "code",
   "execution_count": null,
   "id": "1f62761c",
   "metadata": {},
   "outputs": [],
   "source": [
    "# step 1: install dependencies\n",
    "# run in terminal `pip install -U scikit-learn`\n",
    "# remember to set proper directory to venv, run in terminal code below VV \n",
    "# `& C:/Users/ael/OneDrive/Desktop/138/.venv/Scripts/Activate.ps1& C:/Users/ael/OneDrive/Desktop/138/.venv/Scripts/Activate.ps1`"
   ]
  },
  {
   "cell_type": "code",
   "execution_count": 11,
   "id": "d46473f5",
   "metadata": {},
   "outputs": [],
   "source": [
    "# step 2: import\n",
    "from sklearn import tree #import tree module from sklearn library, for ML decision tree\n",
    "# step 3: create data\n",
    "# [height, weight, shoe size]\n",
    "X = [[181, 80, 44], [177, 70, 43], [160, 60, 38], [154, 54, 37], [166, 65, 40], [190, 90, 47], \n",
    "     [175, 64, 39], [177, 70, 40], [159, 55, 37], [171, 75, 42], [181, 85, 43]]\n",
    "\n",
    "Y = ['male', 'female', 'female', 'female', 'male', 'male',\n",
    "     'male', 'female', 'male', 'female', 'male']"
   ]
  },
  {
   "cell_type": "code",
   "execution_count": null,
   "id": "97a7fe16",
   "metadata": {},
   "outputs": [
    {
     "name": "stdout",
     "output_type": "stream",
     "text": [
      "['male']\n"
     ]
    }
   ],
   "source": [
    "# step 4: create classifier\n",
    "\n",
    "clf = tree.DecisionTreeClassifier()\n",
    "\n",
    "clf = clf.fit(X, Y) # fit the data to the classifier, the X and Y are the arguments\n",
    "\n",
    "prediction = clf.predict([[185, 90, 45]]) # this storees the result\n",
    "# interestingly, put any random number here based on the criteria and it will give you a result\n",
    "print(prediction) # print the result"
   ]
  },
  {
   "cell_type": "markdown",
   "id": "6d8749ec",
   "metadata": {},
   "source": [
    "### **some learnings**\n",
    "- given two arrays of values, say X and Y, if you call the `tree.DecisionTreeClassifier()` and run a prediction, it will make an estimate based on the second argument\n",
    "- the method on how the machine learns is on a decision tree. it might be a sophisticated algorithm checking if this value is a yes or no, as well as assigning weights to which values matter, or even making patterns while establishing hypothetical intervals\n",
    "- making a prediction y from an argument x by utilizing existing data is pretty cool"
   ]
  }
 ],
 "metadata": {
  "kernelspec": {
   "display_name": ".venv",
   "language": "python",
   "name": "python3"
  },
  "language_info": {
   "codemirror_mode": {
    "name": "ipython",
    "version": 3
   },
   "file_extension": ".py",
   "mimetype": "text/x-python",
   "name": "python",
   "nbconvert_exporter": "python",
   "pygments_lexer": "ipython3",
   "version": "3.13.7"
  }
 },
 "nbformat": 4,
 "nbformat_minor": 5
}
